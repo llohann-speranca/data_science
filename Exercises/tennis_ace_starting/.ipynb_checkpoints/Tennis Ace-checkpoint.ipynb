{
 "cells": [
  {
   "cell_type": "markdown",
   "id": "919add0e",
   "metadata": {},
   "source": [
    "# Tennis Prediction"
   ]
  },
  {
   "cell_type": "code",
   "execution_count": null,
   "id": "1cbba476",
   "metadata": {},
   "outputs": [],
   "source": [
    "import pandas as pd\n",
    "import matplotlib.pyplot as plt\n",
    "from sklearn.model_selection import train_test_split\n",
    "from sklearn.linear_model import LinearRegression\n",
    "import numpy as np"
   ]
  },
  {
   "cell_type": "code",
   "execution_count": null,
   "id": "10bbf40d",
   "metadata": {
    "scrolled": true
   },
   "outputs": [],
   "source": [
    "df = pd.read_csv(\"tennis_stats.csv\")\n",
    "df=df.drop_duplicates().reset_index(drop=True)\n",
    "df.head(10)"
   ]
  },
  {
   "cell_type": "code",
   "execution_count": null,
   "id": "58809188",
   "metadata": {},
   "outputs": [],
   "source": [
    "df_earning_per_player = df.set_index([\"Player\",\"Year\"]).copy()\n",
    "df_earning_per_player.loc[\"Pedro Sousa\"]"
   ]
  },
  {
   "cell_type": "code",
   "execution_count": null,
   "id": "90dc8155",
   "metadata": {},
   "outputs": [],
   "source": [
    "df.columns"
   ]
  },
  {
   "cell_type": "code",
   "execution_count": null,
   "id": "2e7172c8",
   "metadata": {},
   "outputs": [],
   "source": [
    "df.describe()"
   ]
  },
  {
   "cell_type": "code",
   "execution_count": null,
   "id": "5c2a8c59",
   "metadata": {},
   "outputs": [],
   "source": [
    "df[\"total_games\"] = df.apply(lambda row: row[\"Wins\"]+row[\"Losses\"], axis=1)\n",
    "df[\"win_rate\"]=df.apply(lambda row: row[\"Wins\"]/(row[\"total_games\"]) if row[\"total_games\"]!= 0 else 0, axis=1)"
   ]
  },
  {
   "cell_type": "code",
   "execution_count": null,
   "id": "400722bf",
   "metadata": {},
   "outputs": [],
   "source": [
    "df[\"Ranking\"].nunique(), df[\"Player\"].nunique(),"
   ]
  },
  {
   "cell_type": "code",
   "execution_count": null,
   "id": "169bda20",
   "metadata": {
    "scrolled": true
   },
   "outputs": [],
   "source": [
    "df.info()"
   ]
  },
  {
   "cell_type": "code",
   "execution_count": null,
   "id": "0bb0212b",
   "metadata": {},
   "outputs": [],
   "source": [
    "df_nonzero = df[df.Wins!=0].copy()\n",
    "df = df[df.total_games != 0]\n",
    "df[df.Wins==0].shape , df.shape, df[df.total_games == 0].shape"
   ]
  },
  {
   "cell_type": "code",
   "execution_count": null,
   "id": "292581a1",
   "metadata": {},
   "outputs": [],
   "source": [
    "df_10 = df[df.total_games >= 10]\n",
    "\n",
    "df_10.shape"
   ]
  },
  {
   "cell_type": "code",
   "execution_count": null,
   "id": "01a36b69",
   "metadata": {
    "scrolled": true
   },
   "outputs": [],
   "source": [
    "df.corr()[\"win_rate\"].sort_values(ascending=False)"
   ]
  },
  {
   "cell_type": "code",
   "execution_count": null,
   "id": "7e8e9675",
   "metadata": {},
   "outputs": [],
   "source": [
    "df_nonzero.corr()[\"win_rate\"].sort_values(ascending=False)"
   ]
  },
  {
   "cell_type": "code",
   "execution_count": null,
   "id": "a0fb2763",
   "metadata": {},
   "outputs": [],
   "source": [
    "c = df.columns[2:]\n",
    "\n",
    "df_demean = df - df[c].mean(axis=0)\n",
    "df_renorm = df_demean.divide(df_demean.max(axis=0)-df_demean.min(axis=0),axis=1).copy()"
   ]
  },
  {
   "cell_type": "code",
   "execution_count": null,
   "id": "2383d5f5",
   "metadata": {},
   "outputs": [],
   "source": [
    "c = df.columns[2:]\n",
    "\n",
    "\n",
    "plt.figure(figsize=(50,50))\n",
    "\n",
    "\n",
    "# ax = plt.subplot(len(c),len(c),1)\n",
    "\n",
    "\n",
    "for i in range(len(c)):\n",
    "    plt.subplot(len(c),len(c),(i)*len(c)+i+1)\n",
    "    plt.hist(df_renorm[c[i]])\n",
    "    if i==0:\n",
    "        plt.ylabel(c[i])\n",
    "        \n",
    "    j=0\n",
    "    while j<i:\n",
    "        plt.subplot(len(c),len(c),(i)*len(c)+j+1)\n",
    "        plt.scatter(df_renorm[c[j]],df_renorm[c[i]],alpha=.4)\n",
    "        if j==0:\n",
    "            plt.ylabel(c[i])\n",
    "        if i==len(c)-1:\n",
    "            plt.xlabel(c[j])\n",
    "        j+=1"
   ]
  },
  {
   "cell_type": "code",
   "execution_count": null,
   "id": "34927c15",
   "metadata": {},
   "outputs": [],
   "source": [
    "l = [\"ServiceGamesPlayed\", \"ReturnGamesPlayed\", \"BreakPointsOpportunities\", \"BreakPointsFaced\", \"DoubleFaults\"]\n",
    "\n",
    "l_y = [\"DoubleFaults\", \"ReturnGamesPlayed\", \"Wins\", \"Losses\"] \n",
    "\n",
    "# l = [\"Aces\", \"ReturnGamesPlayed\", \"BreakPointsOpportunities\", \"DoubleFaults\", \"FirstServe\", \"SecondServePointsWon\", \"SecondServePointsWon\"]"
   ]
  },
  {
   "cell_type": "code",
   "execution_count": null,
   "id": "89f0b488",
   "metadata": {},
   "outputs": [],
   "source": [
    "X = [np.array(df[l[i]].to_list()).reshape(-1,1) for i in range(len(l))]\n",
    "y = df[[\"win_rate\"]]\n",
    "\n",
    "residuals = [0 for i in range(len(l)) ]\n",
    "\n",
    "predictions = [0 for i in range(len(l)) ]\n",
    "\n",
    "\n",
    "\n",
    "plt.figure(figsize=(30,10))\n",
    "\n",
    "\n",
    "\n",
    "\n",
    "for i in range(len(l)):\n",
    "    \n",
    "    x_train, x_test, y_train, y_test = train_test_split(X[i],y,test_size=0.2, train_size=0.8)\n",
    "\n",
    "    single_model =  LinearRegression()\n",
    "\n",
    "    single_model.fit(x_train,y_train)\n",
    "\n",
    "    predictions[i] = single_model.predict(x_test)\n",
    "    \n",
    "    residuals[i] = y_test - np.array(predictions[i])  \n",
    "\n",
    "    \n",
    "    \n",
    "    # Plot line here:\n",
    "    \n",
    "    plt.subplot(2,len(l)+1, i+1)\n",
    "    plt.scatter(x_test, y_test, alpha=0.4)\n",
    "    plt.plot(x_test,predictions[i])\n",
    "    plt.title(l[i])\n",
    "    if i==0:\n",
    "        plt.ylabel(\"Win Rate\")\n",
    "    \n",
    "    plt.subplot(2,len(l)+1, i+len(l)+2)\n",
    "    plt.scatter(predictions[i],residuals[i],alpha=.4, color=\"darkorange\")\n",
    "    plt.title(f\"Residuals - {l[i]}\")\n",
    "    plt.xlabel(f\"Score: {round(single_model.score(x_test,y_test),3)}\")\n",
    "    if i==0:\n",
    "        plt.ylabel(\"Residuals\")\n",
    "    \n",
    "    plt.subplots_adjust(hspace=0.3)\n",
    "\n",
    "    \n",
    "    plt.subplots_adjust(wspace=0.3)\n",
    "    \n",
    "plt.show()"
   ]
  },
  {
   "cell_type": "code",
   "execution_count": null,
   "id": "51499ed3",
   "metadata": {
    "scrolled": false
   },
   "outputs": [],
   "source": [
    "X = [np.array(df[l[i]].to_list()).reshape(-1,1) for i in range(len(l))]\n",
    "y = df[[\"Wins\"]]\n",
    "\n",
    "residuals = [0 for i in range(len(l)) ]\n",
    "\n",
    "predictions = [0 for i in range(len(l)) ]\n",
    "\n",
    "\n",
    "\n",
    "plt.figure(figsize=(30,10))\n",
    "\n",
    "\n",
    "\n",
    "\n",
    "for i in range(len(l)):\n",
    "    \n",
    "    x_train, x_test, y_train, y_test = train_test_split(X[i],y,test_size=0.2, train_size=0.8)\n",
    "\n",
    "    single_model =  LinearRegression()\n",
    "\n",
    "    single_model.fit(x_train,y_train)\n",
    "\n",
    "    predictions[i] = single_model.predict(x_test)\n",
    "    \n",
    "    residuals[i] = y_test - np.array(predictions[i])  \n",
    "\n",
    "    \n",
    "    \n",
    "    # Plot line here:\n",
    "    \n",
    "    plt.subplot(2,len(l)+1, i+1)\n",
    "    plt.scatter(x_test, y_test, alpha=0.4)\n",
    "    plt.plot(x_test,predictions[i])\n",
    "    plt.title(l[i])\n",
    "    if i==0:\n",
    "        plt.ylabel(\"Wins\")\n",
    "    \n",
    "    plt.subplot(2,len(l)+1, i+len(l)+2)\n",
    "    plt.scatter(predictions[i],residuals[i],alpha=.4, color=\"darkorange\")\n",
    "    plt.title(f\"Residuals - {l[i]}\")\n",
    "    plt.xlabel(f\"Score: {round(single_model.score(x_test,y_test),3)}\")\n",
    "    if i==0:\n",
    "        plt.ylabel(\"Residuals\")\n",
    "    \n",
    "    plt.subplots_adjust(hspace=0.3)\n",
    "\n",
    "    \n",
    "    plt.subplots_adjust(wspace=0.3)\n",
    "    \n",
    "plt.show()"
   ]
  },
  {
   "cell_type": "markdown",
   "id": "6853ca55",
   "metadata": {},
   "source": [
    "Below another try with a log-log transformation (after summing 1). The summation of one makes the estimates worst."
   ]
  },
  {
   "cell_type": "code",
   "execution_count": null,
   "id": "2109ff28",
   "metadata": {
    "scrolled": true
   },
   "outputs": [],
   "source": [
    "X = np.log1p([np.array(df_nonzero[l[i]].to_list()).reshape(-1,1) for i in range(len(l))])\n",
    "y = np.log1p(df_nonzero[[\"Wins\"]])\n",
    "\n",
    "\n",
    "residuals = [0 for i in range(len(l)) ]\n",
    "\n",
    "predictions = [0 for i in range(len(l)) ]\n",
    "\n",
    "\n",
    "\n",
    "plt.figure(figsize=(30,10))\n",
    "\n",
    "\n",
    "\n",
    "\n",
    "for i in range(len(l)):\n",
    "    \n",
    "    x_train, x_test, y_train, y_test = train_test_split(X[i],y,test_size=0.2, train_size=0.8)\n",
    "\n",
    "    single_model =  LinearRegression()\n",
    "\n",
    "    single_model.fit(x_train,y_train)\n",
    "\n",
    "    predictions[i] = single_model.predict(x_test)\n",
    "    \n",
    "    residuals[i] = y_test - np.array(predictions[i])  \n",
    "\n",
    "    \n",
    "    \n",
    "    # Plot line here:\n",
    "    \n",
    "    plt.subplot(2,len(l)+1, i+1)\n",
    "    plt.scatter(x_test, y_test, alpha=0.4)\n",
    "    plt.plot(x_test,predictions[i])\n",
    "    plt.title(l[i])\n",
    "    if i==0:\n",
    "        plt.ylabel(\"Win Rate\")\n",
    "    \n",
    "    plt.subplot(2,len(l)+1, i+len(l)+2)\n",
    "    plt.scatter(predictions[i],residuals[i],alpha=.4, color=\"darkorange\")\n",
    "    plt.title(f\"Residuals - {l[i]}\")\n",
    "    plt.xlabel(f\"Score: {round(single_model.score(x_test,y_test),3)}\")\n",
    "    if i==0:\n",
    "        plt.ylabel(\"Residuals\")\n",
    "    \n",
    "    plt.subplots_adjust(hspace=0.3)\n",
    "\n",
    "    \n",
    "    plt.subplots_adjust(wspace=0.3)\n",
    "    \n",
    "plt.show()"
   ]
  },
  {
   "cell_type": "markdown",
   "id": "7dba5bdd",
   "metadata": {},
   "source": [
    "## Linear Regression with Two features"
   ]
  },
  {
   "cell_type": "code",
   "execution_count": null,
   "id": "043803dc",
   "metadata": {
    "scrolled": false
   },
   "outputs": [],
   "source": [
    "X = [np.array(df[l[i]].to_list()).reshape(-1,1) for i in range(len(l))]\n",
    "y = df[[\"Wins\"]]\n",
    "\n",
    "\n",
    "\n",
    "ll = [ [l[i],l[j]] for i in range(len(l)-1) for j in range(i+1,len(l))]\n",
    "\n",
    "XX = [ df[ll[k]] for k in range(len(ll))]\n",
    "\n",
    "\n",
    "\n",
    "residuals = [0 for i in range(len(ll)) ]\n",
    "\n",
    "predictions = [0 for i in range(len(ll)) ]\n",
    "\n",
    "\n",
    "\n",
    "for i in range(len(ll)):\n",
    "\n",
    "    x_train, x_test, y_train, y_test = train_test_split(XX[i],y,test_size=0.2, train_size=0.8)\n",
    "\n",
    "    single_model =  LinearRegression()\n",
    "\n",
    "    single_model.fit(x_train,y_train)\n",
    "\n",
    "    predictions[i] = single_model.predict(x_test)\n",
    "    \n",
    "    residuals[i] = y_test - np.array(predictions[i])  \n",
    "\n",
    "\n",
    "    \n",
    "\n",
    "    plt.figure(figsize=(15,5))\n",
    "\n",
    "\n",
    "\n",
    "    plt.scatter(predictions[i],residuals[i],alpha=.4, color=\"darkorange\")\n",
    "    plt.title(\"Residuals of Wins Vs. {}\".format(\" and \".join(ll[i])))\n",
    "    plt.xlabel(f\"Score: {round(single_model.score(x_test,y_test),3)}\")\n",
    "    plt.ylabel(\"Residuals\")\n",
    "    \n",
    "    \n",
    "    plt.show()\n",
    "    \n",
    "    "
   ]
  },
  {
   "cell_type": "code",
   "execution_count": null,
   "id": "481f7bc0",
   "metadata": {},
   "outputs": [],
   "source": []
  },
  {
   "cell_type": "markdown",
   "id": "893f92da",
   "metadata": {},
   "source": [
    "### Generalizability of the model"
   ]
  },
  {
   "cell_type": "code",
   "execution_count": null,
   "id": "b9e57482",
   "metadata": {
    "scrolled": true
   },
   "outputs": [],
   "source": [
    "X = [np.array(df[l[i]].to_list()).reshape(-1,1) for i in range(len(l))]\n",
    "y = df[[\"Wins\"]]\n",
    "\n",
    "\n",
    "\n",
    "ll = [ [l[i],l[j]] for i in range(len(l)-1) for j in range(i+1,len(l))]\n",
    "\n",
    "XX = [ df[ll[k]] for k in range(len(ll))]\n",
    "\n",
    "\n",
    "\n",
    "\n",
    "residuals = [0 for i in range(len(ll)) ]\n",
    "\n",
    "predictions = [0 for i in range(len(ll)) ]\n",
    "\n",
    "\n",
    "\n",
    "\n",
    "\n",
    "\n",
    "\n",
    "for i in range(len(ll)):\n",
    "\n",
    "    x_train, x_test, y_train, y_test = train_test_split(XX[i], y, train_size = 0.7, test_size = 0.3, random_state=6)\n",
    "\n",
    "\n",
    "    single_model =  LinearRegression()\n",
    "\n",
    "    single_model.fit(x_train,y_train)\n",
    "\n",
    "    predictions[i] = single_model.predict(x_test)\n",
    "    \n",
    "    residuals[i] = y_test - np.array(predictions[i])  \n",
    "\n",
    "\n",
    "    plt.figure(figsize=(15,5))\n",
    "\n",
    "\n",
    "\n",
    "    plt.scatter(predictions[i],residuals[i],alpha=.4, color=\"darkorange\")\n",
    "    plt.title(\"Residuals of Wins Vs. {}\".format(\" and \".join(ll[i])))\n",
    "    plt.xlabel(\"Wins\")\n",
    "    plt.ylabel(\"Resoduals\")\n",
    "    \n",
    "    \n",
    "    plt.show()\n",
    "    \n",
    "    print(f\"Model test-score: {single_model.score(x_test,y_test)}\")\n",
    "\n"
   ]
  },
  {
   "cell_type": "markdown",
   "id": "1b3e4f5c",
   "metadata": {},
   "source": [
    "## Linear Regression with Multiple Features"
   ]
  },
  {
   "cell_type": "code",
   "execution_count": null,
   "id": "3dc7a1e4",
   "metadata": {},
   "outputs": [],
   "source": [
    "X = df[l]\n",
    "y = df[\"Wins\"]\n",
    "\n",
    "\n",
    "general_model = LinearRegression()\n",
    "\n",
    "x_train, x_test, y_train, y_test = train_test_split(X,y,test_size=0.3, train_size=0.7)\n",
    "\n",
    "general_model.fit(x_train,y_train)\n",
    "\n",
    "predictions = np.array(general_model.predict(x_test))\n",
    "\n",
    "residuals = y_test - predictions\n",
    "\n",
    "plt.figure(figsize=(10,10))\n",
    "\n",
    "plt.scatter(y_test,residuals,alpha=.4)\n",
    "plt.show()\n",
    "\n",
    "\n",
    "print(f\" General model test-score: {general_model.score(x_test,y_test)}\")\n"
   ]
  },
  {
   "cell_type": "markdown",
   "id": "18f66f27",
   "metadata": {},
   "source": [
    "## Linear Regression for Earnings"
   ]
  },
  {
   "cell_type": "code",
   "execution_count": null,
   "id": "559a0f07",
   "metadata": {
    "scrolled": false
   },
   "outputs": [],
   "source": [
    "X = [np.array(df[l_y[i]].to_list()).reshape(-1,1) for i in range(len(l_y))]\n",
    "y = df[[\"Winnings\"]]\n",
    "\n",
    "residuals = [0 for i in range(len(l_y)) ]\n",
    "\n",
    "predictions = [0 for i in range(len(l_y)) ]\n",
    "\n",
    "\n",
    "\n",
    "plt.figure(figsize=(30,10))\n",
    "\n",
    "\n",
    "\n",
    "\n",
    "for i in range(len(l_y)):\n",
    "    \n",
    "    x_train, x_test, y_train, y_test = train_test_split(X[i],y,test_size=0.2, train_size=0.8)\n",
    "\n",
    "    single_model =  LinearRegression()\n",
    "\n",
    "    single_model.fit(x_train,y_train)\n",
    "\n",
    "    predictions[i] = single_model.predict(x_test)\n",
    "    \n",
    "    residuals[i] = y_test - np.array(predictions[i])  \n",
    "\n",
    "    \n",
    "    \n",
    "    # Plot line here:\n",
    "    \n",
    "    plt.subplot(2,len(l_y)+1, i+1)\n",
    "    plt.scatter(x_test, y_test, alpha=0.4)\n",
    "    plt.plot(x_test,predictions[i])\n",
    "    plt.title(l_y[i])\n",
    "    if i==0:\n",
    "        plt.ylabel(\"Wins\")\n",
    "    \n",
    "    plt.subplot(2,len(l_y)+1, i+len(l_y)+2)\n",
    "    plt.scatter(predictions[i],residuals[i],alpha=.4, color=\"darkorange\")\n",
    "    plt.title(f\"Residuals - {l_y[i]}\")\n",
    "    plt.xlabel(f\"Score: {round(single_model.score(x_test,y_test),3)}\")\n",
    "    if i==0:\n",
    "        plt.ylabel(\"Residuals\")\n",
    "    \n",
    "    plt.subplots_adjust(hspace=0.3)\n",
    "\n",
    "    \n",
    "    plt.subplots_adjust(wspace=0.3)\n",
    "    \n",
    "plt.show()"
   ]
  },
  {
   "cell_type": "code",
   "execution_count": null,
   "id": "d58810df",
   "metadata": {
    "scrolled": true
   },
   "outputs": [],
   "source": [
    "X = [np.array(df[l_y[i]].to_list()).reshape(-1,1) for i in range(len(l_y))]\n",
    "y = df[[\"Winnings\"]]\n",
    "\n",
    "\n",
    "\n",
    "ll = [ [l_y[i],l_y[j]] for i in range(len(l_y)-1) for j in range(i+1,len(l_y))]\n",
    "\n",
    "XX = [ df[ll[k]] for k in range(len(ll))]\n",
    "\n",
    "\n",
    "\n",
    "\n",
    "residuals = [0 for i in range(len(ll)) ]\n",
    "\n",
    "predictions = [0 for i in range(len(ll)) ]\n",
    "\n",
    "\n",
    "\n",
    "\n",
    "\n",
    "\n",
    "\n",
    "for i in range(len(ll)):\n",
    "\n",
    "    x_train, x_test, y_train, y_test = train_test_split(XX[i], y, train_size = 0.7, test_size = 0.3, random_state=6)\n",
    "\n",
    "\n",
    "    single_model =  LinearRegression()\n",
    "\n",
    "    single_model.fit(x_train,y_train)\n",
    "\n",
    "    predictions[i] = single_model.predict(x_test)\n",
    "    \n",
    "    residuals[i] = y_test - np.array(predictions[i])  \n",
    "\n",
    "\n",
    "    plt.figure(figsize=(15,5))\n",
    "\n",
    "\n",
    "\n",
    "    plt.scatter(predictions[i],residuals[i],alpha=.4, color=\"darkorange\")\n",
    "    plt.title(\"Residuals of Earnings Vs. {}\".format(\" and \".join(ll[i])))\n",
    "    plt.xlabel(\"Wins\")\n",
    "    plt.ylabel(\"Resoduals\")\n",
    "    \n",
    "    \n",
    "    plt.show()\n",
    "    \n",
    "    print(f\"Model test-score: {single_model.score(x_test,y_test)}\")\n",
    "\n"
   ]
  },
  {
   "cell_type": "markdown",
   "id": "574009f0",
   "metadata": {},
   "source": [
    "## Linear Regression with Multiple Features"
   ]
  },
  {
   "cell_type": "code",
   "execution_count": null,
   "id": "d948adae",
   "metadata": {},
   "outputs": [],
   "source": [
    "X = df[l_y]\n",
    "y = df[\"Winnings\"]\n",
    "\n",
    "\n",
    "general_model = LinearRegression()\n",
    "\n",
    "x_train, x_test, y_train, y_test = train_test_split(X,y,test_size=0.3, train_size=0.7)\n",
    "\n",
    "general_model.fit(x_train,y_train)\n",
    "\n",
    "predictions = np.array(general_model.predict(x_test))\n",
    "\n",
    "residuals = y_test - predictions\n",
    "\n",
    "plt.figure(figsize=(10,10))\n",
    "\n",
    "plt.scatter(y_test,residuals,alpha=.4)\n",
    "plt.show()\n",
    "\n",
    "\n",
    "print(f\" General model test-score: {general_model.score(x_test,y_test)}\")\n"
   ]
  },
  {
   "cell_type": "code",
   "execution_count": null,
   "id": "5019f5bf",
   "metadata": {},
   "outputs": [],
   "source": []
  }
 ],
 "metadata": {
  "kernelspec": {
   "display_name": "Python 3 (ipykernel)",
   "language": "python",
   "name": "python3"
  },
  "language_info": {
   "codemirror_mode": {
    "name": "ipython",
    "version": 3
   },
   "file_extension": ".py",
   "mimetype": "text/x-python",
   "name": "python",
   "nbconvert_exporter": "python",
   "pygments_lexer": "ipython3",
   "version": "3.9.12"
  }
 },
 "nbformat": 4,
 "nbformat_minor": 5
}

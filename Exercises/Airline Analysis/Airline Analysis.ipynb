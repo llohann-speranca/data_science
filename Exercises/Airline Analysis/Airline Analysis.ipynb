{
 "cells": [
  {
   "cell_type": "markdown",
   "metadata": {},
   "source": [
    "# Airline Analysis"
   ]
  },
  {
   "cell_type": "markdown",
   "metadata": {},
   "source": [
    "In this project, you'll imagine that you work for a travel agency and need to know the ins and outs of airline prices for your clients. You want to make sure that you can find the best deal for your client and help them to understand how airline prices change based on different factors.\n",
    "\n",
    "You decide to look into your favorite airline. The data include:\n",
    "- `miles`: miles traveled through the flight\n",
    "- `passengers`: number of passengers on the flight\n",
    "- `delay`: take-off delay in minutes\n",
    "- `inflight_meal`: is there a meal included in the flight?\n",
    "- `inflight_entertainment`: are there free entertainment systems for each seat?\n",
    "- `inflight_wifi`: is there complimentary wifi on the flight?\n",
    "- `day_of_week`: day of the week of the flight\n",
    "- `weekend`: did this flight take place on a weekend?\n",
    "- `coach_price`: the average price paid for a coach ticket\n",
    "- `firstclass_price`: the average price paid for first-class seats\n",
    "- `hours`: how many hours the flight took\n",
    "- `redeye`: was this flight a redeye (overnight)?\n",
    "\n",
    "In this project, you'll explore a dataset for the first time and get to know each of these features. Keep in mind that there's no one right way to address each of these questions. The goal is simply to explore and get to know the data using whatever methods come to mind.\n",
    "\n",
    "You will be working in this file. Note that there is the file **Airline Analysis_Solution.ipynb** that contains the solution code for this project. We highly recommend that you complete the project on your own without checking the solution, but feel free to take a look if you get stuck or if you want to compare answers when you're done.\n",
    "\n",
    "In order to get the plots to appear correctly in the notebook, you'll need to show and then clear each plot before creating the next one using the following code:\n",
    "\n",
    "```py\n",
    "plt.show() # Show the plot\n",
    "plt.clf() # Clear the plot\n",
    "```\n",
    "\n",
    "Clearing the plot will not erase the plot from view, it will just create a new space for the following graphic."
   ]
  },
  {
   "cell_type": "markdown",
   "metadata": {},
   "source": [
    "## Univariate Analysis"
   ]
  },
  {
   "cell_type": "code",
   "execution_count": null,
   "metadata": {},
   "outputs": [],
   "source": [
    "import pandas as pd\n",
    "import numpy as np\n",
    "import seaborn as sns\n",
    "import statsmodels\n",
    "import matplotlib.pyplot as plt\n",
    "import math\n",
    "\n",
    "# Read in Data\n",
    "flight = pd.read_csv(\"flight.csv\")\n",
    "flight.head(5)"
   ]
  },
  {
   "cell_type": "markdown",
   "metadata": {},
   "source": [
    "1. What do coach ticket prices look like? What are the high and low values? What would be considered the average? Does $500 seem like a good price for a coach ticket?"
   ]
  },
  {
   "cell_type": "code",
   "execution_count": null,
   "metadata": {
    "scrolled": true
   },
   "outputs": [],
   "source": [
    "flight.describe()"
   ]
  },
  {
   "cell_type": "code",
   "execution_count": null,
   "metadata": {},
   "outputs": [],
   "source": [
    "sns.boxplot(x='coach_price', data=flight)"
   ]
  },
  {
   "cell_type": "markdown",
   "metadata": {},
   "source": [
    "With the information above, we conclude that $500 is much higher than the average price, even higher than the third quartile."
   ]
  },
  {
   "cell_type": "markdown",
   "metadata": {},
   "source": [
    "2. Now visualize the coach ticket prices for flights that are 8 hours long. What are the high, low, and average prices for 8-hour-long flights? Does a $500 dollar ticket seem more reasonable than before?"
   ]
  },
  {
   "cell_type": "code",
   "execution_count": null,
   "metadata": {
    "scrolled": true
   },
   "outputs": [],
   "source": [
    "flight_8h = flight[flight.hours==8]\n",
    "\n",
    "sns.boxplot(x=\"coach_price\", data=flight_8h)\n"
   ]
  },
  {
   "cell_type": "markdown",
   "metadata": {},
   "source": [
    "Now we see that $500 is a price much closer to the third quartile, althoug still high."
   ]
  },
  {
   "cell_type": "markdown",
   "metadata": {},
   "source": [
    "3. How are flight delay times distributed? Let's say there is a short amount of time between two connecting flights, and a flight delay would put the client at risk of missing their connecting flight. You want to better understand how often there are large delays so you can correctly set up connecting flights. What kinds of delays are typical?"
   ]
  },
  {
   "cell_type": "code",
   "execution_count": null,
   "metadata": {},
   "outputs": [],
   "source": [
    "sns.boxplot(x=\"delay\", data=flight)"
   ]
  },
  {
   "cell_type": "code",
   "execution_count": null,
   "metadata": {
    "scrolled": false
   },
   "outputs": [],
   "source": [
    "flight_hidelay = flight[flight.delay > 1000]\n",
    "flight_lodelay = flight[flight.delay < 1000]\n",
    "\n",
    "\n",
    "plt.figure(figsize=(20,8))\n",
    "\n",
    "plt.subplot(131)\n",
    "sns.boxplot(x=\"delay\", data=flight_hidelay)\n",
    "plt.title(\"High-delayed flights\")\n",
    "\n",
    "plt.subplot(132)\n",
    "sns.boxplot(x=\"delay\", data=flight_lodelay)\n",
    "plt.title(\"Low-delayed flights\")\n",
    "\n",
    "plt.subplot(133)\n",
    "sns.boxplot(x=\"delay\", data=flight)\n",
    "plt.title(\"All flights\")\n",
    "\n",
    "plt.show()\n",
    "plt.clf()"
   ]
  },
  {
   "cell_type": "code",
   "execution_count": null,
   "metadata": {
    "scrolled": true
   },
   "outputs": [],
   "source": [
    "flight_hidelay = flight[flight.delay > 1000]\n",
    "flight_lodelay = flight[flight.delay < 1000]\n",
    "\n",
    "plt.figure(figsize=(20,8))\n",
    "\n",
    "plt.subplot(121)\n",
    "plt.hist(flight_hidelay.delay, bins = 20)\n",
    "plt.title(\"High-delayed flights\")\n",
    "\n",
    "plt.subplot(122)\n",
    "plt.hist(flight_lodelay.delay, bins = 20)\n",
    "plt.title(\"Low-delayed flights\")\n",
    "\n",
    "# plt.subplot(133)\n",
    "# plt.hist(flight.delay, bins = 200)\n",
    "# plt.title(\"All flights\")\n",
    "\n",
    "plt.show()"
   ]
  },
  {
   "cell_type": "markdown",
   "metadata": {},
   "source": [
    "By comparing both histograms, we conclude that the most popular delay is of 10 minutes. Another way to see this is through value_counts:"
   ]
  },
  {
   "cell_type": "code",
   "execution_count": null,
   "metadata": {
    "scrolled": true
   },
   "outputs": [],
   "source": [
    "flight.delay.value_counts().sort_values(ascending=False).head(30)"
   ]
  },
  {
   "cell_type": "markdown",
   "metadata": {},
   "source": [
    "From where we conclude that the most common delay is from 8 to 12 minutes."
   ]
  },
  {
   "cell_type": "markdown",
   "metadata": {},
   "source": [
    "## Bivariate Analysis"
   ]
  },
  {
   "cell_type": "markdown",
   "metadata": {},
   "source": [
    "4. Create a visualization that shows the relationship between coach and first-class prices. What is the relationship between these two prices? Do flights with higher coach prices always have higher first-class prices as well?"
   ]
  },
  {
   "cell_type": "code",
   "execution_count": null,
   "metadata": {},
   "outputs": [],
   "source": [
    "\n",
    "sns.scatterplot(x=\"coach_price\", y=\"firstclass_price\", data=flight, alpha=.4)\n",
    "\n"
   ]
  },
  {
   "cell_type": "markdown",
   "metadata": {},
   "source": [
    "Although there is a tendency that higher coach prices define higher first class prices, there are flights with the same first-class price but different coach prices."
   ]
  },
  {
   "cell_type": "markdown",
   "metadata": {},
   "source": [
    "5. What is the relationship between coach prices and inflight features &mdash; inflight meal, inflight entertainment, and inflight WiFi? Which features are associated with the highest increase in price?"
   ]
  },
  {
   "cell_type": "code",
   "execution_count": null,
   "metadata": {},
   "outputs": [],
   "source": [
    "l = flight.columns.to_list()[3:-3]\n",
    "for i in range(len(l)):\n",
    "    feature = l[i]\n",
    "    sns.boxplot(x=\"coach_price\", y=feature, data=flight)\n",
    "    plt.show()\n",
    "    plt.clf()"
   ]
  },
  {
   "cell_type": "markdown",
   "metadata": {},
   "source": [
    "Both inflight entertainement and inflight Wifi have high increase, but are realtively similar. Apart from the question, we see that the highest increase, however, comes from being in a weekend day or not."
   ]
  },
  {
   "cell_type": "markdown",
   "metadata": {},
   "source": [
    "6. How does the number of passengers change in relation to the length of flights?"
   ]
  },
  {
   "cell_type": "code",
   "execution_count": null,
   "metadata": {},
   "outputs": [],
   "source": [
    "flight.columns"
   ]
  },
  {
   "cell_type": "code",
   "execution_count": null,
   "metadata": {
    "scrolled": true
   },
   "outputs": [],
   "source": [
    "sns.lineplot(x=\"hours\", y=\"passengers\", data=flight)"
   ]
  },
  {
   "cell_type": "markdown",
   "metadata": {},
   "source": [
    "The number os passengers is more or less constant, whhen related to the length of flight. There is, indeed, much greater deviation when the flight is longer, however such a deviation is limited to, at most, +-1 passenger.  "
   ]
  },
  {
   "cell_type": "markdown",
   "metadata": {},
   "source": [
    "## Multivariate Analysis"
   ]
  },
  {
   "cell_type": "markdown",
   "metadata": {},
   "source": [
    "7. Visualize the relationship between coach and first-class prices on weekends compared to weekdays."
   ]
  },
  {
   "cell_type": "code",
   "execution_count": null,
   "metadata": {
    "scrolled": true
   },
   "outputs": [],
   "source": [
    "\n",
    "sns.scatterplot(x=\"coach_price\", y=\"firstclass_price\", data=flight, alpha=.4, hue=\"weekend\")\n"
   ]
  },
  {
   "cell_type": "markdown",
   "metadata": {},
   "source": [
    "It is quite clear that weekend flights are more expensive."
   ]
  },
  {
   "cell_type": "markdown",
   "metadata": {},
   "source": [
    "8. How do coach prices differ for redeyes and non-redeyes on each day of the week?"
   ]
  },
  {
   "cell_type": "code",
   "execution_count": null,
   "metadata": {},
   "outputs": [],
   "source": [
    "sns.boxplot(x=\"day_of_week\", y=\"coach_price\", hue=\"redeye\", data=flight)\n"
   ]
  },
  {
   "cell_type": "markdown",
   "metadata": {},
   "source": [
    "The variation seems to be the same, although the prices in weekends are clearly higher."
   ]
  }
 ],
 "metadata": {
  "kernelspec": {
   "display_name": "Python 3 (ipykernel)",
   "language": "python",
   "name": "python3"
  },
  "language_info": {
   "codemirror_mode": {
    "name": "ipython",
    "version": 3
   },
   "file_extension": ".py",
   "mimetype": "text/x-python",
   "name": "python",
   "nbconvert_exporter": "python",
   "pygments_lexer": "ipython3",
   "version": "3.9.12"
  }
 },
 "nbformat": 4,
 "nbformat_minor": 2
}

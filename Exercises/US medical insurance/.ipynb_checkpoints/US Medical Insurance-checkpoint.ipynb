{
 "cells": [
  {
   "cell_type": "markdown",
   "id": "736c7218",
   "metadata": {},
   "source": [
    "# US Medical Insurance Exploration"
   ]
  },
  {
   "cell_type": "markdown",
   "id": "56d4b8c5",
   "metadata": {},
   "source": [
    "In this notebook, we explore how common health variables may affect the charges in US medical insurance. We start by a quick exploration and organization of the data, then proceed to analyse how age and bmi affect such costs. In a third instance we use these two indices to model an expected cost for insurance."
   ]
  },
  {
   "cell_type": "markdown",
   "id": "655319b3",
   "metadata": {},
   "source": [
    "## Basic ETL"
   ]
  },
  {
   "cell_type": "code",
   "execution_count": null,
   "id": "bb384168",
   "metadata": {},
   "outputs": [],
   "source": [
    "import pandas as pd\n",
    "import numpy as np\n",
    "from matplotlib import pyplot as plt\n",
    "import scipy.stats as stats\n",
    "import seaborn as sns"
   ]
  },
  {
   "cell_type": "code",
   "execution_count": null,
   "id": "8e301328",
   "metadata": {},
   "outputs": [],
   "source": [
    "df = pd.read_csv(\"insurance.csv\")\n",
    "df.head()\n",
    "df.smoker=df.smoker.replace('yes',1).replace(\"no\",0)"
   ]
  },
  {
   "cell_type": "code",
   "execution_count": null,
   "id": "52ef2a36",
   "metadata": {},
   "outputs": [],
   "source": [
    "df.describe()"
   ]
  },
  {
   "cell_type": "code",
   "execution_count": null,
   "id": "cfac0f26",
   "metadata": {
    "scrolled": true
   },
   "outputs": [],
   "source": [
    "df.info()"
   ]
  },
  {
   "cell_type": "markdown",
   "id": "04ec2638",
   "metadata": {},
   "source": [
    "We see that there are no nan number nor outliers. The data is already clean."
   ]
  },
  {
   "cell_type": "code",
   "execution_count": null,
   "id": "de7722be",
   "metadata": {},
   "outputs": [],
   "source": [
    "df.corr().style.set_caption(\"General Correlation Table\")"
   ]
  },
  {
   "cell_type": "markdown",
   "id": "ebf9d11d",
   "metadata": {},
   "source": [
    "# Age modeling"
   ]
  },
  {
   "cell_type": "markdown",
   "id": "a1aeafde",
   "metadata": {},
   "source": [
    "Here we first vizualize and see the correlation between age other features. We start by a general plotting, then divide the sample into smokers and non-smokers."
   ]
  },
  {
   "cell_type": "code",
   "execution_count": null,
   "id": "90d07d3c",
   "metadata": {},
   "outputs": [],
   "source": [
    "df_age_groupby = df.groupby(\"age\").mean()"
   ]
  },
  {
   "cell_type": "code",
   "execution_count": null,
   "id": "194efdc3",
   "metadata": {
    "scrolled": true
   },
   "outputs": [],
   "source": [
    "df_age_groupby.plot(subplots=True,figsize=(20,25))"
   ]
  },
  {
   "cell_type": "code",
   "execution_count": null,
   "id": "740eb640",
   "metadata": {},
   "outputs": [],
   "source": [
    "df_smokers = df[df.smoker==1].copy()\n",
    "df_smokers.drop(columns=[\"smoker\"],inplace=True);\n",
    "df_age_smokers_groupby = df_smokers.groupby(\"age\").mean()\n",
    "df_age_smokers_groupby.plot(subplots=True,figsize=(25,20))"
   ]
  },
  {
   "cell_type": "code",
   "execution_count": null,
   "id": "3dc9b1f1",
   "metadata": {},
   "outputs": [],
   "source": [
    "df_no_smokers = df[df.smoker==0].copy()\n",
    "df_no_smokers.drop(columns=[\"smoker\"],inplace=True)\n",
    "df_age_no_smokers_groupby = df_smokers.groupby(\"age\").mean()\n",
    "df_age_no_smokers_groupby.plot(subplots=True,figsize=(25,20))"
   ]
  },
  {
   "cell_type": "markdown",
   "id": "c1a561a9",
   "metadata": {},
   "source": [
    "There is a clearer difference when we plot both groups together in a scatter plot."
   ]
  },
  {
   "cell_type": "code",
   "execution_count": null,
   "id": "7758ccdd",
   "metadata": {
    "scrolled": false
   },
   "outputs": [],
   "source": [
    "plt.figure(figsize=(8,8))\n",
    "plt.scatter(df_no_smokers.age,df_no_smokers.charges,alpha=0.5)\n",
    "plt.scatter(df_smokers.age,df_smokers.charges,alpha=0.5)\n",
    "\n",
    "plt.legend([\"Smokers\",\"Non-smokers\"])\n",
    "plt.xlabel(\"Age\")\n",
    "plt.ylabel(\"Cost\")\n",
    "plt.title(\"Insurance Cost by Age\")\n",
    "\n",
    "plt.show()\n",
    "\n",
    "plt.figure(figsize=(10,5))\n",
    "plt.subplot(1,2,1)\n",
    "plt.scatter(df_smokers.age,df_smokers.charges,alpha=0.5,color=\"darkorange\")\n",
    "\n",
    "\n",
    "\n",
    "\n",
    "plt.subplot(1,2,2)\n",
    "plt.scatter(df_no_smokers.age,df_no_smokers.charges,alpha=0.5)\n",
    "\n",
    "\n",
    "plt.show()\n",
    "\n"
   ]
  },
  {
   "cell_type": "code",
   "execution_count": null,
   "id": "eb725b9d",
   "metadata": {},
   "outputs": [],
   "source": [
    "sns.lmplot(x = 'age', y = 'charges', hue = 'smoker', data = df)\n",
    "plt.show()"
   ]
  },
  {
   "cell_type": "markdown",
   "id": "093109e9",
   "metadata": {},
   "source": [
    "We also look for some relation between age and bmi, without success."
   ]
  },
  {
   "cell_type": "code",
   "execution_count": null,
   "id": "ba1cc579",
   "metadata": {},
   "outputs": [],
   "source": [
    "plt.figure(figsize=(12,12))\n",
    "plt.scatter(df_no_smokers.age,df_no_smokers.bmi,alpha=0.5)\n",
    "plt.scatter(df_smokers.age,df_smokers.bmi,alpha=0.5)\n",
    "plt.legend([\"Non Smokers\",\"Smokers\"])\n",
    "plt.show()"
   ]
  },
  {
   "cell_type": "code",
   "execution_count": null,
   "id": "8dc6556a",
   "metadata": {},
   "outputs": [],
   "source": [
    "stats.ttest_ind(df_smokers.charges,df_no_smokers.charges)"
   ]
  },
  {
   "cell_type": "code",
   "execution_count": null,
   "id": "925c72fb",
   "metadata": {},
   "outputs": [],
   "source": [
    "stats.ttest_ind(df_smokers.bmi,df_no_smokers.bmi)"
   ]
  },
  {
   "cell_type": "markdown",
   "id": "e58dd5db",
   "metadata": {},
   "source": [
    "## Smokers by age"
   ]
  },
  {
   "cell_type": "markdown",
   "id": "80606d75",
   "metadata": {},
   "source": [
    "We take the opportunity to understand how the smoking population is distributed through ages. We specially divide the sample in three age groups, from where we conclude the data aquisition might be conduct in order to equally distribute the number of smokers and non-smokers. "
   ]
  },
  {
   "cell_type": "code",
   "execution_count": null,
   "id": "1f85bfc1",
   "metadata": {},
   "outputs": [],
   "source": [
    "df_smoke_by_age = df.groupby(\"age\").smoker.mean()\n",
    "plt.figure(figsize=(10,6))\n",
    "df_smoke_by_age.plot.bar()\n",
    "plt.show()"
   ]
  },
  {
   "cell_type": "markdown",
   "id": "af4cf40f",
   "metadata": {},
   "source": [
    "Next we evaluate how is the distribution around age groups. We devide the sample in three age groups and apply a $\\chi^2$-contingency test to understand how age might influence in smoking."
   ]
  },
  {
   "cell_type": "code",
   "execution_count": null,
   "id": "2bdc1713",
   "metadata": {},
   "outputs": [],
   "source": [
    "df_smoke_by_age = df.groupby([\"age\",\"smoker\"]).sex.count().reset_index().set_index(\"smoker\")\n",
    "\n",
    "contingency = pd.merge(df_smoke_by_age.loc[0].reset_index().drop(columns=[\"smoker\"]), \n",
    "df_smoke_by_age.loc[1].reset_index().drop(columns=[\"smoker\"]), on=\"age\")\\\n",
    "#     .rename(columns=[\"age\",\"smokers\",\"non_smokers\"])\n",
    "#     .drop(columns=[\"age\"])\n",
    "\n",
    "contingency.columns = [\"age\",\"smokers\",\"non_smokers\"]\n",
    "\n",
    "def age_separator(x):\n",
    "    if x <64/3:\n",
    "        return \"18-22\"\n",
    "    elif x < 2*64/3:\n",
    "        return \"23-44\"\n",
    "    else:\n",
    "        return \"44-64\"\n",
    "\n",
    "mask = contingency.age.apply(age_separator)\n",
    "\n",
    "contingency = contingency.groupby(mask).count().drop(columns=[\"age\"])\n",
    "\n",
    "print(contingency)\n",
    "\n",
    "\n",
    "print(f\"\\n The resulting p-value is: {stats.chi2_contingency(contingency)[1]}\")"
   ]
  },
  {
   "cell_type": "markdown",
   "id": "5aef45d7",
   "metadata": {},
   "source": [
    "From this we conclude that the test might have been conducted in order to distribute the population equally between smokers and non-smokers."
   ]
  },
  {
   "cell_type": "markdown",
   "id": "df469007",
   "metadata": {},
   "source": [
    "# BMI comparison"
   ]
  },
  {
   "cell_type": "markdown",
   "id": "8c533741",
   "metadata": {},
   "source": [
    "Another question is how the BMI affects the current charges. Although not a necessarily required index when contracting the insurance, it shows very correlated with the charges in the smoking population. "
   ]
  },
  {
   "cell_type": "code",
   "execution_count": null,
   "id": "f84c60e4",
   "metadata": {},
   "outputs": [],
   "source": [
    "plt.scatter(df_smokers.bmi,df_smokers.charges,color=\"r\",alpha=.3)\n",
    "plt.scatter(df_no_smokers.bmi,df_no_smokers.charges,color=\"g\",alpha=.3)\n",
    "plt.legend([\"Smokers\",\"Non smokers\"])"
   ]
  },
  {
   "cell_type": "markdown",
   "id": "7ba0c392",
   "metadata": {},
   "source": [
    "This graph does not gives us a clear vizualization since both plots require different scale. Let us break them into two."
   ]
  },
  {
   "cell_type": "code",
   "execution_count": null,
   "id": "ee28464d",
   "metadata": {},
   "outputs": [],
   "source": [
    "plt.figure(figsize=(10,5))\n",
    "plt.subplot(1,2,1)\n",
    "plt.scatter(df_smokers.bmi,df_smokers.charges,color=\"r\",alpha=.3)\n",
    "plt.subplot(1,2,2)\n",
    "plt.scatter(df_no_smokers.bmi,df_no_smokers.charges,color=\"g\",alpha=.3)\n",
    "plt.show()\n"
   ]
  },
  {
   "cell_type": "markdown",
   "id": "bdac605a",
   "metadata": {},
   "source": [
    "It seems  bmi and  charges are greatly correlated whenever you smoke, but not otherwise. We can acertain this information by computing their Pearson Correlations."
   ]
  },
  {
   "cell_type": "code",
   "execution_count": null,
   "id": "56a759cb",
   "metadata": {},
   "outputs": [],
   "source": [
    "df_smokers.corr().style.set_caption(\"Correlation Smoking Population\")"
   ]
  },
  {
   "cell_type": "code",
   "execution_count": null,
   "id": "553a2784",
   "metadata": {},
   "outputs": [],
   "source": [
    "df_no_smokers.corr().style.set_caption(\"Correlation Non-smoking Population\")"
   ]
  },
  {
   "cell_type": "markdown",
   "id": "06a5df94",
   "metadata": {},
   "source": [
    "We indeed conclude that, whenever you are a smoker, the bmi is a better index for pricing than age itself."
   ]
  }
 ],
 "metadata": {
  "kernelspec": {
   "display_name": "Python 3 (ipykernel)",
   "language": "python",
   "name": "python3"
  },
  "language_info": {
   "codemirror_mode": {
    "name": "ipython",
    "version": 3
   },
   "file_extension": ".py",
   "mimetype": "text/x-python",
   "name": "python",
   "nbconvert_exporter": "python",
   "pygments_lexer": "ipython3",
   "version": "3.9.12"
  }
 },
 "nbformat": 4,
 "nbformat_minor": 5
}

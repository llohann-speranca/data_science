{
 "cells": [
  {
   "cell_type": "markdown",
   "id": "76b22c2a",
   "metadata": {},
   "source": [
    "# How hazardous is an asteroid?\n",
    "\n",
    "In this Notebook we use Nasa's Data on Cosmic bodies centered on Earth to try to predict if it is considered Hazardous or not, based on its estimated diameter, miss distance, velocity and magnitude. We conclude that such information is not sufficient."
   ]
  },
  {
   "cell_type": "code",
   "execution_count": null,
   "id": "104747d8",
   "metadata": {},
   "outputs": [],
   "source": [
    "import pandas as pd\n",
    "import numpy as np\n",
    "from sklearn.linear_model import LogisticRegression\n",
    "from sklearn.linear_model import LinearRegression\n",
    "from sklearn.preprocessing import StandardScaler\n",
    "from sklearn.model_selection import train_test_split\n",
    "import sklearn.metrics as metrics"
   ]
  },
  {
   "cell_type": "code",
   "execution_count": null,
   "id": "017e9fea",
   "metadata": {},
   "outputs": [],
   "source": [
    "df = pd.read_csv(\"neo.csv\", usecols=['id', 'name', 'est_diameter_min', 'est_diameter_max',\n",
    "       'relative_velocity', 'miss_distance',\n",
    "       'absolute_magnitude', 'hazardous'])\n",
    "df.head()"
   ]
  },
  {
   "cell_type": "code",
   "execution_count": null,
   "id": "26a62749",
   "metadata": {},
   "outputs": [],
   "source": [
    "def model_metrics(y_test, y_pred, matrix=False):\n",
    "    print(f\"\"\"            Accuracy:  {round(metrics.accuracy_score(y_test,y_pred),3)} \n",
    "            F1-score:  {round(metrics.f1_score(y_test,y_pred),3)}\n",
    "            Recall:    {round(metrics.recall_score(y_test,y_pred),3)}\n",
    "            Precision: {round(metrics.precision_score(y_test,y_pred),3)}\n",
    "            \"\"\")\n",
    "    if matrix:\n",
    "        return metrics.confusion_matrix(y_test,y_pred)\n"
   ]
  },
  {
   "cell_type": "code",
   "execution_count": null,
   "id": "6ff45a4c",
   "metadata": {},
   "outputs": [],
   "source": [
    "df.corr()"
   ]
  },
  {
   "cell_type": "code",
   "execution_count": null,
   "id": "cb582b7a",
   "metadata": {},
   "outputs": [],
   "source": [
    "# Running the model\n",
    "\n",
    "\n",
    "\n",
    "def make_model(X_cols):\n",
    "    y = df[\"hazardous\"]\n",
    "\n",
    "    X = df[X_cols]\n",
    "\n",
    "    scaler = StandardScaler()\n",
    "    scaler.fit(X)\n",
    "    X = scaler.transform(X)\n",
    "\n",
    "\n",
    "    # Train-Test split\n",
    "\n",
    "    X_train, X_test, y_train, y_test = train_test_split(X,y, test_size=.2, train_size=.8)\n",
    "\n",
    "\n",
    "    #Logistic Regression\n",
    "\n",
    "    model = LogisticRegression()\n",
    "    model.fit(X_train,y_train)\n",
    "\n",
    "    # Plotting results\n",
    "\n",
    "    y_pred = model.predict(X_test)\n",
    "\n",
    "    # Estimatting metrics\n",
    "\n",
    "    model_metrics(y_pred,y_test)"
   ]
  },
  {
   "cell_type": "code",
   "execution_count": null,
   "id": "36f192da",
   "metadata": {},
   "outputs": [],
   "source": [
    "X_cols = ['est_diameter_min', 'est_diameter_max',\n",
    "           'relative_velocity', 'miss_distance',\n",
    "           'absolute_magnitude']\n",
    "make_model(X_cols)"
   ]
  },
  {
   "cell_type": "markdown",
   "id": "d3599a44",
   "metadata": {},
   "source": [
    "## Conclusion:\n",
    "\n",
    "The model is quite imprecise. From the test scores, we can see that it can predict half of hazardous bodies and from accuracy we conclude that it correctly classify most of non-hazardous objects. However, its Precision shows us that it has a great quantity of False positives."
   ]
  }
 ],
 "metadata": {
  "kernelspec": {
   "display_name": "Python 3 (ipykernel)",
   "language": "python",
   "name": "python3"
  },
  "language_info": {
   "codemirror_mode": {
    "name": "ipython",
    "version": 3
   },
   "file_extension": ".py",
   "mimetype": "text/x-python",
   "name": "python",
   "nbconvert_exporter": "python",
   "pygments_lexer": "ipython3",
   "version": "3.9.12"
  }
 },
 "nbformat": 4,
 "nbformat_minor": 5
}
